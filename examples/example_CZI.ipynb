{
 "cells": [
  {
   "cell_type": "markdown",
   "id": "961e826d",
   "metadata": {},
   "source": [
    "# **China Z Index (CZI)**\n",
    "**Tolga Barış Terzi – 2025**\n",
    "\n",
    "This notebook demonstrates example calculations of the **China Z Index (CZI)**, following the methodology of **Wu et al. (2001)**.  \n",
    "\n",
    "CZI is a **standardized precipitation-based drought index** that incorporates **skewness correction** into the Z-score, making it more suitable for **non-normally distributed precipitation data**. A modified version (MCZI) can be calculated by replacing the mean with the **median** in the Z-score computation.  \n",
    "\n",
    "---\n",
    "\n",
    "## **CZI Methodology Overview**\n",
    "\n",
    "1. **Aggregation**: Accumulate precipitation over the selected time scale (e.g., 1, 3, 6, 12 months).  \n",
    "2. **Standardization**: For each calendar month, calculate:  \n",
    "\n",
    "   - **Z-score**:  \n",
    "     $$\n",
    "     Z = \\frac{P - \\overline{P}}{s}\n",
    "     $$  \n",
    "     where $P$ is precipitation, $\\overline{P}$ is the mean precipitation, and $s$ is the standard deviation.  \n",
    "\n",
    "   - **Skewness ($C_s$)**:  \n",
    "     $$\n",
    "     C_s = \\frac{\\sum (P - \\overline{P})^3}{n \\, s^3}\n",
    "     $$  \n",
    "\n",
    "   - **CZI formula**:  \n",
    "     $$\n",
    "     \\text{CZI} = \\frac{6}{C_s} \\left[ \\left(\\frac{C_s}{2} Z + 1\\right)^{1/3} \\right] - \\frac{6}{C_s} + \\frac{C_s}{6}\n",
    "     $$  \n",
    "\n",
    "3. **Interpretation**:  \n",
    "   - Negative values → **Drought conditions**  \n",
    "   - Positive values → **Wet conditions**  \n",
    "\n",
    "---\n",
    "\n",
    "## **Required Packages**\n"
   ]
  },
  {
   "cell_type": "code",
   "execution_count": 3,
   "id": "ee52e25a",
   "metadata": {},
   "outputs": [],
   "source": [
    "import pandas as pd\n",
    "import numpy as np\n",
    "import pydrght"
   ]
  },
  {
   "cell_type": "markdown",
   "id": "f50f4fa1",
   "metadata": {},
   "source": [
    "---\n",
    "## **Load the Data**\n",
    "\n",
    "The example dataset contains monthly values of:\n",
    "  \n",
    "- **Precipitation** \n",
    "\n",
    "The data is from the **Çoruh River Basin, Turkey**, covering the period **October 1964 – September 2011**, which corresponds to hydrological years **1965–2011**."
   ]
  },
  {
   "cell_type": "code",
   "execution_count": 4,
   "id": "fc2dddf9",
   "metadata": {},
   "outputs": [
    {
     "data": {
      "text/html": [
       "<div>\n",
       "<style scoped>\n",
       "    .dataframe tbody tr th:only-of-type {\n",
       "        vertical-align: middle;\n",
       "    }\n",
       "\n",
       "    .dataframe tbody tr th {\n",
       "        vertical-align: top;\n",
       "    }\n",
       "\n",
       "    .dataframe thead th {\n",
       "        text-align: right;\n",
       "    }\n",
       "</style>\n",
       "<table border=\"1\" class=\"dataframe\">\n",
       "  <thead>\n",
       "    <tr style=\"text-align: right;\">\n",
       "      <th></th>\n",
       "      <th>STREAMFLOW</th>\n",
       "      <th>PRECIPITATION</th>\n",
       "      <th>MINT</th>\n",
       "      <th>MAXT</th>\n",
       "      <th>MEANT</th>\n",
       "      <th>PET</th>\n",
       "    </tr>\n",
       "    <tr>\n",
       "      <th>DATE</th>\n",
       "      <th></th>\n",
       "      <th></th>\n",
       "      <th></th>\n",
       "      <th></th>\n",
       "      <th></th>\n",
       "      <th></th>\n",
       "    </tr>\n",
       "  </thead>\n",
       "  <tbody>\n",
       "    <tr>\n",
       "      <th>1964-10-01</th>\n",
       "      <td>10.5</td>\n",
       "      <td>46.67</td>\n",
       "      <td>2.0</td>\n",
       "      <td>22.7</td>\n",
       "      <td>12.0</td>\n",
       "      <td>95.471</td>\n",
       "    </tr>\n",
       "    <tr>\n",
       "      <th>1964-11-01</th>\n",
       "      <td>11.0</td>\n",
       "      <td>99.70</td>\n",
       "      <td>-1.7</td>\n",
       "      <td>12.3</td>\n",
       "      <td>5.0</td>\n",
       "      <td>43.318</td>\n",
       "    </tr>\n",
       "    <tr>\n",
       "      <th>1964-12-01</th>\n",
       "      <td>12.5</td>\n",
       "      <td>64.70</td>\n",
       "      <td>-4.1</td>\n",
       "      <td>4.1</td>\n",
       "      <td>-0.4</td>\n",
       "      <td>22.320</td>\n",
       "    </tr>\n",
       "    <tr>\n",
       "      <th>1965-01-01</th>\n",
       "      <td>12.3</td>\n",
       "      <td>41.00</td>\n",
       "      <td>-5.0</td>\n",
       "      <td>3.0</td>\n",
       "      <td>-1.4</td>\n",
       "      <td>22.607</td>\n",
       "    </tr>\n",
       "    <tr>\n",
       "      <th>1965-02-01</th>\n",
       "      <td>15.8</td>\n",
       "      <td>104.50</td>\n",
       "      <td>-6.9</td>\n",
       "      <td>3.4</td>\n",
       "      <td>-2.1</td>\n",
       "      <td>29.121</td>\n",
       "    </tr>\n",
       "  </tbody>\n",
       "</table>\n",
       "</div>"
      ],
      "text/plain": [
       "            STREAMFLOW  PRECIPITATION  MINT  MAXT  MEANT     PET\n",
       "DATE                                                            \n",
       "1964-10-01        10.5          46.67   2.0  22.7   12.0  95.471\n",
       "1964-11-01        11.0          99.70  -1.7  12.3    5.0  43.318\n",
       "1964-12-01        12.5          64.70  -4.1   4.1   -0.4  22.320\n",
       "1965-01-01        12.3          41.00  -5.0   3.0   -1.4  22.607\n",
       "1965-02-01        15.8         104.50  -6.9   3.4   -2.1  29.121"
      ]
     },
     "execution_count": 4,
     "metadata": {},
     "output_type": "execute_result"
    }
   ],
   "source": [
    "df = pd.read_csv(\"data.csv\", index_col=0, parse_dates=True)\n",
    "df.head()"
   ]
  },
  {
   "cell_type": "markdown",
   "id": "82e62ac9",
   "metadata": {},
   "source": [
    "---\n",
    "## **Calculate CZI**\n",
    "\n",
    "In this example, we calculate monthly **CZI** values using precipitation data.  \n",
    "\n",
    "- **Precipitation** is selected from the dataset.  \n",
    "\n",
    "We use the `pydrght.CZI` class to calculate:  \n",
    "\n",
    "1. **CZI**: The China Z Index, which standardizes precipitation using mean and standard deviation, while correcting for skewness.  \n",
    "2. **MCZI (optional)**: A modified version of CZI, computed by using the **median** instead of the mean, to reduce sensitivity to outliers and skewed distributions.  \n"
   ]
  },
  {
   "cell_type": "code",
   "execution_count": 5,
   "id": "db0abdb3",
   "metadata": {},
   "outputs": [
    {
     "name": "stdout",
     "output_type": "stream",
     "text": [
      "=== China Z Index (CZI) ===\n"
     ]
    },
    {
     "data": {
      "text/plain": [
       "DATE\n",
       "1965-09-01   -0.214723\n",
       "1965-10-01   -0.073664\n",
       "1965-11-01   -0.445689\n",
       "1965-12-01    0.323689\n",
       "1966-01-01    1.570276\n",
       "Name: CZI-12, dtype: float64"
      ]
     },
     "metadata": {},
     "output_type": "display_data"
    }
   ],
   "source": [
    "# Select precipitation column\n",
    "precip = df['PRECIPITATION']\n",
    "\n",
    "# Initialize CZI class\n",
    "czi = pydrght.CZI(precip=precip, ts=12)\n",
    "\n",
    "# === China Z Index (CZI) ===\n",
    "CZI_values = czi.calculate()\n",
    "print(\"=== China Z Index (CZI) ===\")\n",
    "display(CZI_values.head())"
   ]
  },
  {
   "cell_type": "markdown",
   "id": "6205e5f5",
   "metadata": {},
   "source": [
    "---\n",
    "\n",
    "## **References**\n",
    "\n",
    "- Wu, H., Hayes, M. J., Weiss, A., & Hu, Q. (2001).   \"An evaluation of the Standardized Precipitation Index, the China-Z Index and the statistical Z-Score.\" *International Journal of Climatology*, 21(6), 745–758.\n"
   ]
  }
 ],
 "metadata": {
  "kernelspec": {
   "display_name": ".venv",
   "language": "python",
   "name": "python3"
  },
  "language_info": {
   "codemirror_mode": {
    "name": "ipython",
    "version": 3
   },
   "file_extension": ".py",
   "mimetype": "text/x-python",
   "name": "python",
   "nbconvert_exporter": "python",
   "pygments_lexer": "ipython3",
   "version": "3.11.9"
  }
 },
 "nbformat": 4,
 "nbformat_minor": 5
}
