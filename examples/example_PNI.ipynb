{
 "cells": [
  {
   "cell_type": "markdown",
   "id": "cb73a391",
   "metadata": {},
   "source": [
    "# **Percent of Normal Index (PNI)**\n",
    "**Tolga Barış Terzi – 2025**\n",
    "\n",
    "This notebook demonstrates example calculations of the **Percent of Normal Index (PNI)**, following the methodology of **Hayes (1999)**.  \n",
    "\n",
    "PNI is one of the simplest drought indices, expressing precipitation as a percentage of the long-term mean (the \"normal\").  \n",
    "\n",
    "---\n",
    "\n",
    "## **PNI Methodology Overview**\n",
    "\n",
    "1. **Aggregation**: Accumulate precipitation over the selected time scale (e.g., 1, 3, 6, 12 months).  \n",
    "2. **Computation**: Compare accumulated precipitation with the long-term mean:  \n",
    "\n",
    "   - **Global PNI**:  \n",
    "     $$\n",
    "     \\text{PNI}_{global} = \\frac{P}{\\overline{P}} \\times 100\n",
    "     $$\n",
    "\n",
    "   - **Month-wise PNI**:  \n",
    "     $$\n",
    "     \\text{PNI}_{m} = \\frac{P_m}{\\overline{P}_m} \\times 100\n",
    "     $$  \n",
    "     where $P_m$ is precipitation for month *m*, and $\\overline{P}_m$ is the long-term mean precipitation for month *m*.\n",
    "\n",
    "3. **Interpretation**:  \n",
    "   - PNI = 100 → Normal conditions  \n",
    "   - PNI < 100 → Dry (below-normal)  \n",
    "   - PNI > 100 → Wet (above-normal)  \n",
    "\n",
    "---\n",
    "\n",
    "## **Required Packages**\n"
   ]
  },
  {
   "cell_type": "code",
   "execution_count": 1,
   "id": "bfbf8db4",
   "metadata": {},
   "outputs": [],
   "source": [
    "import pandas as pd\n",
    "import numpy as np\n",
    "import pydrght"
   ]
  },
  {
   "cell_type": "markdown",
   "id": "28c8a45d",
   "metadata": {},
   "source": [
    "---\n",
    "## **Load the Data**\n",
    "\n",
    "The example dataset contains monthly values of:\n",
    "  \n",
    "- **Precipitation** \n",
    "\n",
    "The data is from the **Çoruh River Basin, Turkey**, covering the period **October 1964 – September 2011**, which corresponds to hydrological years **1965–2011**."
   ]
  },
  {
   "cell_type": "code",
   "execution_count": 3,
   "id": "dff2e65d",
   "metadata": {},
   "outputs": [
    {
     "data": {
      "text/html": [
       "<div>\n",
       "<style scoped>\n",
       "    .dataframe tbody tr th:only-of-type {\n",
       "        vertical-align: middle;\n",
       "    }\n",
       "\n",
       "    .dataframe tbody tr th {\n",
       "        vertical-align: top;\n",
       "    }\n",
       "\n",
       "    .dataframe thead th {\n",
       "        text-align: right;\n",
       "    }\n",
       "</style>\n",
       "<table border=\"1\" class=\"dataframe\">\n",
       "  <thead>\n",
       "    <tr style=\"text-align: right;\">\n",
       "      <th></th>\n",
       "      <th>STREAMFLOW</th>\n",
       "      <th>PRECIPITATION</th>\n",
       "      <th>MINT</th>\n",
       "      <th>MAXT</th>\n",
       "      <th>MEANT</th>\n",
       "      <th>PET</th>\n",
       "    </tr>\n",
       "    <tr>\n",
       "      <th>DATE</th>\n",
       "      <th></th>\n",
       "      <th></th>\n",
       "      <th></th>\n",
       "      <th></th>\n",
       "      <th></th>\n",
       "      <th></th>\n",
       "    </tr>\n",
       "  </thead>\n",
       "  <tbody>\n",
       "    <tr>\n",
       "      <th>1964-10-01</th>\n",
       "      <td>10.5</td>\n",
       "      <td>46.67</td>\n",
       "      <td>2.0</td>\n",
       "      <td>22.7</td>\n",
       "      <td>12.0</td>\n",
       "      <td>95.471</td>\n",
       "    </tr>\n",
       "    <tr>\n",
       "      <th>1964-11-01</th>\n",
       "      <td>11.0</td>\n",
       "      <td>99.70</td>\n",
       "      <td>-1.7</td>\n",
       "      <td>12.3</td>\n",
       "      <td>5.0</td>\n",
       "      <td>43.318</td>\n",
       "    </tr>\n",
       "    <tr>\n",
       "      <th>1964-12-01</th>\n",
       "      <td>12.5</td>\n",
       "      <td>64.70</td>\n",
       "      <td>-4.1</td>\n",
       "      <td>4.1</td>\n",
       "      <td>-0.4</td>\n",
       "      <td>22.320</td>\n",
       "    </tr>\n",
       "    <tr>\n",
       "      <th>1965-01-01</th>\n",
       "      <td>12.3</td>\n",
       "      <td>41.00</td>\n",
       "      <td>-5.0</td>\n",
       "      <td>3.0</td>\n",
       "      <td>-1.4</td>\n",
       "      <td>22.607</td>\n",
       "    </tr>\n",
       "    <tr>\n",
       "      <th>1965-02-01</th>\n",
       "      <td>15.8</td>\n",
       "      <td>104.50</td>\n",
       "      <td>-6.9</td>\n",
       "      <td>3.4</td>\n",
       "      <td>-2.1</td>\n",
       "      <td>29.121</td>\n",
       "    </tr>\n",
       "  </tbody>\n",
       "</table>\n",
       "</div>"
      ],
      "text/plain": [
       "            STREAMFLOW  PRECIPITATION  MINT  MAXT  MEANT     PET\n",
       "DATE                                                            \n",
       "1964-10-01        10.5          46.67   2.0  22.7   12.0  95.471\n",
       "1964-11-01        11.0          99.70  -1.7  12.3    5.0  43.318\n",
       "1964-12-01        12.5          64.70  -4.1   4.1   -0.4  22.320\n",
       "1965-01-01        12.3          41.00  -5.0   3.0   -1.4  22.607\n",
       "1965-02-01        15.8         104.50  -6.9   3.4   -2.1  29.121"
      ]
     },
     "execution_count": 3,
     "metadata": {},
     "output_type": "execute_result"
    }
   ],
   "source": [
    "df = pd.read_csv(\"data.csv\", index_col=0, parse_dates=True)\n",
    "df.head()"
   ]
  },
  {
   "cell_type": "markdown",
   "id": "ef7ad561",
   "metadata": {},
   "source": [
    "---\n",
    "## **Calculate PNI**\n",
    "\n",
    "In this example, we calculate monthly **PNI** values using precipitation data.  \n",
    "\n",
    "- **Precipitation** is selected from the dataset.  \n",
    "\n",
    "We use the `pydrght.PNI` class to calculate:\n",
    "\n",
    "1. **Global PNI**: The Percent of Normal Index computed relative to the overall long-term mean precipitation.  \n",
    "2. **Month-wise PNI**: The Percent of Normal Index computed separately for each calendar month, accounting for seasonal variability.  "
   ]
  },
  {
   "cell_type": "code",
   "execution_count": 4,
   "id": "a53f315c",
   "metadata": {},
   "outputs": [
    {
     "name": "stdout",
     "output_type": "stream",
     "text": [
      "=== Global PNI ===\n"
     ]
    },
    {
     "data": {
      "text/plain": [
       "DATE\n",
       "1965-09-01     94.360232\n",
       "1965-10-01     96.723168\n",
       "1965-11-01     90.659422\n",
       "1965-12-01    106.027328\n",
       "1966-01-01    133.779394\n",
       "Name: PNI_global, dtype: float64"
      ]
     },
     "metadata": {},
     "output_type": "display_data"
    },
    {
     "name": "stdout",
     "output_type": "stream",
     "text": [
      "=== Month-wise PNI ===\n"
     ]
    },
    {
     "data": {
      "text/plain": [
       "DATE\n",
       "1965-09-01     94.324557\n",
       "1965-10-01     96.799499\n",
       "1965-11-01     91.046502\n",
       "1965-12-01    106.068061\n",
       "1966-01-01    133.679686\n",
       "Name: PNI_monthwise, dtype: float64"
      ]
     },
     "metadata": {},
     "output_type": "display_data"
    }
   ],
   "source": [
    "# Select precipitation column\n",
    "precip = df['PRECIPITATION']\n",
    "\n",
    "# Initialize PNI class\n",
    "pni = pydrght.PNI(precip=precip, ts=12)\n",
    "\n",
    "# === Global PNI ===\n",
    "PNI_global = pni.calculate()\n",
    "print(\"=== Global PNI ===\")\n",
    "display(PNI_global.head())\n",
    "\n",
    "# === Month-wise PNI ===\n",
    "PNI_monthwise = pni.calculate_monthwise()\n",
    "print(\"=== Month-wise PNI ===\")\n",
    "display(PNI_monthwise.head())"
   ]
  },
  {
   "cell_type": "markdown",
   "id": "0b7d0ebf",
   "metadata": {},
   "source": [
    "---\n",
    "\n",
    "## **References**\n",
    "\n",
    "- Hayes, M. J. (1999). *Drought Indices*. National Drought Mitigation Center, University of Nebraska–Lincoln.  \n",
    "\n",
    "- Wilhite, D. A., & Glantz, M. H. (1985). *Understanding the drought phenomenon: The role of definitions*. Water International, 10(3), 111–120.  "
   ]
  }
 ],
 "metadata": {
  "kernelspec": {
   "display_name": ".venv",
   "language": "python",
   "name": "python3"
  },
  "language_info": {
   "codemirror_mode": {
    "name": "ipython",
    "version": 3
   },
   "file_extension": ".py",
   "mimetype": "text/x-python",
   "name": "python",
   "nbconvert_exporter": "python",
   "pygments_lexer": "ipython3",
   "version": "3.11.9"
  }
 },
 "nbformat": 4,
 "nbformat_minor": 5
}
