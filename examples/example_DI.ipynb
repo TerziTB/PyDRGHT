{
 "cells": [
  {
   "cell_type": "markdown",
   "id": "10007bfe",
   "metadata": {},
   "source": [
    "# **Deciles Index (DI)**\n",
    "**Tolga Barış Terzi – 2025**\n",
    "\n",
    "This notebook demonstrates example calculations of the **Deciles Index (DI)**, following the methodology of **Gibbs & Maher (1967)**.  \n",
    "\n",
    "DI is a **precipitation-based drought index** that classifies each month into **deciles (1–10)** based on the **empirical cumulative distribution of precipitation**, where:\n",
    "\n",
    "- **1 → Extremely dry conditions**  \n",
    "- **10 → Extremely wet conditions**\n",
    "\n",
    "DI can be computed **globally** or **month-wise** to account for seasonal variability.\n",
    "\n",
    "---\n",
    "\n",
    "## **DI Methodology Overview**\n",
    "\n",
    "1. **Aggregation**: Accumulate precipitation over the selected time scale (e.g., 1, 3, 6, 12 months).  \n",
    "\n",
    "2. **Global DI computation**:  \n",
    "   - Rank all accumulated values  \n",
    "   - Compute empirical percentiles  \n",
    "   - Assign deciles:  \n",
    "     $$\n",
    "     \\text{DI} = \\lceil \\text{percentile} \\times 10 \\rceil\n",
    "     $$\n",
    "     Decile 1 corresponds to the lowest precipitation values; decile 10 corresponds to the highest.\n",
    "\n",
    "3. **Month-wise DI computation (optional)**:  \n",
    "   - Rank precipitation values **separately for each calendar month**  \n",
    "   - Compute deciles as above to account for seasonal variability.\n",
    "\n",
    "4. **Interpretation**:  \n",
    "   - Lower deciles → Dry conditions  \n",
    "   - Higher deciles → Wet conditions\n",
    "\n",
    "---\n",
    "\n",
    "## **Required Packages**\n"
   ]
  },
  {
   "cell_type": "code",
   "execution_count": 1,
   "id": "a756c39c",
   "metadata": {},
   "outputs": [],
   "source": [
    "import pandas as pd\n",
    "import numpy as np\n",
    "import pydrght"
   ]
  },
  {
   "cell_type": "markdown",
   "id": "f04a7b4f",
   "metadata": {},
   "source": [
    "---\n",
    "## **Load the Data**\n",
    "\n",
    "The example dataset contains monthly values of:\n",
    "  \n",
    "- **Precipitation** \n",
    "\n",
    "The data is from the **Çoruh River Basin, Turkey**, covering the period **October 1964 – September 2011**, which corresponds to hydrological years **1965–2011**."
   ]
  },
  {
   "cell_type": "code",
   "execution_count": 2,
   "id": "500765fc",
   "metadata": {},
   "outputs": [
    {
     "data": {
      "text/html": [
       "<div>\n",
       "<style scoped>\n",
       "    .dataframe tbody tr th:only-of-type {\n",
       "        vertical-align: middle;\n",
       "    }\n",
       "\n",
       "    .dataframe tbody tr th {\n",
       "        vertical-align: top;\n",
       "    }\n",
       "\n",
       "    .dataframe thead th {\n",
       "        text-align: right;\n",
       "    }\n",
       "</style>\n",
       "<table border=\"1\" class=\"dataframe\">\n",
       "  <thead>\n",
       "    <tr style=\"text-align: right;\">\n",
       "      <th></th>\n",
       "      <th>STREAMFLOW</th>\n",
       "      <th>PRECIPITATION</th>\n",
       "      <th>MINT</th>\n",
       "      <th>MAXT</th>\n",
       "      <th>MEANT</th>\n",
       "      <th>PET</th>\n",
       "    </tr>\n",
       "    <tr>\n",
       "      <th>DATE</th>\n",
       "      <th></th>\n",
       "      <th></th>\n",
       "      <th></th>\n",
       "      <th></th>\n",
       "      <th></th>\n",
       "      <th></th>\n",
       "    </tr>\n",
       "  </thead>\n",
       "  <tbody>\n",
       "    <tr>\n",
       "      <th>1964-10-01</th>\n",
       "      <td>10.5</td>\n",
       "      <td>46.67</td>\n",
       "      <td>2.0</td>\n",
       "      <td>22.7</td>\n",
       "      <td>12.0</td>\n",
       "      <td>95.471</td>\n",
       "    </tr>\n",
       "    <tr>\n",
       "      <th>1964-11-01</th>\n",
       "      <td>11.0</td>\n",
       "      <td>99.70</td>\n",
       "      <td>-1.7</td>\n",
       "      <td>12.3</td>\n",
       "      <td>5.0</td>\n",
       "      <td>43.318</td>\n",
       "    </tr>\n",
       "    <tr>\n",
       "      <th>1964-12-01</th>\n",
       "      <td>12.5</td>\n",
       "      <td>64.70</td>\n",
       "      <td>-4.1</td>\n",
       "      <td>4.1</td>\n",
       "      <td>-0.4</td>\n",
       "      <td>22.320</td>\n",
       "    </tr>\n",
       "    <tr>\n",
       "      <th>1965-01-01</th>\n",
       "      <td>12.3</td>\n",
       "      <td>41.00</td>\n",
       "      <td>-5.0</td>\n",
       "      <td>3.0</td>\n",
       "      <td>-1.4</td>\n",
       "      <td>22.607</td>\n",
       "    </tr>\n",
       "    <tr>\n",
       "      <th>1965-02-01</th>\n",
       "      <td>15.8</td>\n",
       "      <td>104.50</td>\n",
       "      <td>-6.9</td>\n",
       "      <td>3.4</td>\n",
       "      <td>-2.1</td>\n",
       "      <td>29.121</td>\n",
       "    </tr>\n",
       "  </tbody>\n",
       "</table>\n",
       "</div>"
      ],
      "text/plain": [
       "            STREAMFLOW  PRECIPITATION  MINT  MAXT  MEANT     PET\n",
       "DATE                                                            \n",
       "1964-10-01        10.5          46.67   2.0  22.7   12.0  95.471\n",
       "1964-11-01        11.0          99.70  -1.7  12.3    5.0  43.318\n",
       "1964-12-01        12.5          64.70  -4.1   4.1   -0.4  22.320\n",
       "1965-01-01        12.3          41.00  -5.0   3.0   -1.4  22.607\n",
       "1965-02-01        15.8         104.50  -6.9   3.4   -2.1  29.121"
      ]
     },
     "execution_count": 2,
     "metadata": {},
     "output_type": "execute_result"
    }
   ],
   "source": [
    "df = pd.read_csv(\"data.csv\", index_col=0, parse_dates=True)\n",
    "df.head()"
   ]
  },
  {
   "cell_type": "markdown",
   "id": "96651225",
   "metadata": {},
   "source": [
    "---\n",
    "## **Calculate DI**\n",
    "\n",
    "In this example, we calculate monthly **DI** values using precipitation data.  \n",
    "\n",
    "- **Precipitation** is selected from the dataset.  \n",
    "\n",
    "We use the `pydrght.DI` class to calculate:\n",
    "\n",
    "1. **Global DI**: The Deciles Index computed using all months combined, assigning each month a decile (1–10) based on the empirical cumulative distribution of precipitation.  \n",
    "2. **Month-wise DI**: The Deciles Index computed separately for each calendar month to account for seasonal variability, still assigning deciles 1–10."
   ]
  },
  {
   "cell_type": "code",
   "execution_count": 3,
   "id": "0c2092da",
   "metadata": {},
   "outputs": [
    {
     "name": "stdout",
     "output_type": "stream",
     "text": [
      "=== Global DI ===\n"
     ]
    },
    {
     "data": {
      "text/plain": [
       "DATE\n",
       "1965-09-01     5\n",
       "1965-10-01     5\n",
       "1965-11-01     4\n",
       "1965-12-01     7\n",
       "1966-01-01    10\n",
       "Name: DI, dtype: int64"
      ]
     },
     "metadata": {},
     "output_type": "display_data"
    },
    {
     "name": "stdout",
     "output_type": "stream",
     "text": [
      "=== Month-wise DI ===\n"
     ]
    },
    {
     "data": {
      "text/plain": [
       "DATE\n",
       "1965-09-01     5.0\n",
       "1965-10-01     5.0\n",
       "1965-11-01     4.0\n",
       "1965-12-01     7.0\n",
       "1966-01-01    10.0\n",
       "Name: DI_monthwise, dtype: float64"
      ]
     },
     "metadata": {},
     "output_type": "display_data"
    }
   ],
   "source": [
    "# Select precipitation column\n",
    "precip = df['PRECIPITATION']\n",
    "\n",
    "# Initialize DI class\n",
    "DI = pydrght.DI(precip=precip, ts=12)\n",
    "\n",
    "# === Global DI ===\n",
    "DI_global = DI.calculate()\n",
    "print(\"=== Global DI ===\")\n",
    "display(DI_global.head())\n",
    "\n",
    "# === Month-wise DI ===\n",
    "DI_monthwise = DI.calculate_monthwise()\n",
    "print(\"=== Month-wise DI ===\")\n",
    "display(DI_monthwise.head())"
   ]
  },
  {
   "cell_type": "markdown",
   "id": "91123ce9",
   "metadata": {},
   "source": [
    "---\n",
    "\n",
    "## **References**\n",
    "\n",
    "- Gibbs, W. J., & Maher, J. V. (1967). *Rainfall deciles as drought indicators.* Bureau of Meteorology, Australia.\n"
   ]
  }
 ],
 "metadata": {
  "kernelspec": {
   "display_name": ".venv",
   "language": "python",
   "name": "python3"
  },
  "language_info": {
   "codemirror_mode": {
    "name": "ipython",
    "version": 3
   },
   "file_extension": ".py",
   "mimetype": "text/x-python",
   "name": "python",
   "nbconvert_exporter": "python",
   "pygments_lexer": "ipython3",
   "version": "3.11.9"
  }
 },
 "nbformat": 4,
 "nbformat_minor": 5
}
