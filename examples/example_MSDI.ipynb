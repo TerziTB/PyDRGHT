{
 "cells": [
  {
   "cell_type": "markdown",
   "id": "c9b0bedc",
   "metadata": {},
   "source": [
    "# **Multivariate Standardized Drought Index (MSDI)**\n",
    "**Tolga Barış Terzi – 2025**\n",
    "\n",
    "This notebook demonstrates example calculations of the **Multivariate Standardized Drought Index (MSDI)** using **bivariate data** (e.g., precipitation and streamflow).  \n",
    "MSDI extends the univariate standardized indices to account for **dependence between two hydrometeorological variables**.\n",
    "\n",
    "---\n",
    "\n",
    "## **MSDI Methodology Overview**\n",
    "\n",
    "The following provides a step-by-step explanation of the **Multivariate Standardized Drought Index (MSDI)** calculation:\n",
    "\n",
    "1. **Aggregation**  \n",
    "   Accumulate each selected variable over the chosen time scale (e.g., 1, 3, 6, 12 months).\n",
    "\n",
    "2. **Marginal Probability Calculation**  \n",
    "   Compute marginal probabilities for each variable using either the **Weibull (1951)** or **Gringorten (1963)** plotting position formula, or from **probability density functions**.  \n",
    "   This standardizes the data to a uniform distribution in the interval [0,1].\n",
    "\n",
    "3. **Copula Fitting**  \n",
    "   Fit the selected **copula family** to the standardized data and estimate the copula parameters.\n",
    "\n",
    "4. **Joint CDF Construction**  \n",
    "   Construct the **cumulative distribution function (CDF)** to obtain the **joint cumulative probability**.  \n",
    "   - **Copula-based MSDI**: use the fitted copula functions.  \n",
    "   - **Empirical MSDI**: use bivariate plotting position formulas.\n",
    "\n",
    "5. **Standardization**  \n",
    "   Transform the cumulative probabilities into **standard normal quantiles** using the inverse of the standard normal distribution function.\n",
    "\n",
    "---\n",
    "\n",
    "## **Required Packages**\n"
   ]
  },
  {
   "cell_type": "code",
   "execution_count": 1,
   "id": "39ae1b65",
   "metadata": {},
   "outputs": [],
   "source": [
    "import pandas as pd\n",
    "import numpy as np\n",
    "import scipy.stats as stats\n",
    "import pydrght"
   ]
  },
  {
   "cell_type": "markdown",
   "id": "94facdc6",
   "metadata": {},
   "source": [
    "---\n",
    "## **Load the Data**\n",
    "\n",
    "The example dataset contains monthly values of:\n",
    "\n",
    "- **Streamflow**  \n",
    "- **Precipitation**  \n",
    "\n",
    "The data is from the **Çoruh River Basin, Turkey**, covering the period **October 1964 – September 2011**, which corresponds to hydrological years **1965–2011**."
   ]
  },
  {
   "cell_type": "code",
   "execution_count": 3,
   "id": "34bded1a",
   "metadata": {},
   "outputs": [
    {
     "data": {
      "text/html": [
       "<div>\n",
       "<style scoped>\n",
       "    .dataframe tbody tr th:only-of-type {\n",
       "        vertical-align: middle;\n",
       "    }\n",
       "\n",
       "    .dataframe tbody tr th {\n",
       "        vertical-align: top;\n",
       "    }\n",
       "\n",
       "    .dataframe thead th {\n",
       "        text-align: right;\n",
       "    }\n",
       "</style>\n",
       "<table border=\"1\" class=\"dataframe\">\n",
       "  <thead>\n",
       "    <tr style=\"text-align: right;\">\n",
       "      <th></th>\n",
       "      <th>STREAMFLOW</th>\n",
       "      <th>PRECIPITATION</th>\n",
       "      <th>MINT</th>\n",
       "      <th>MAXT</th>\n",
       "      <th>MEANT</th>\n",
       "      <th>PET</th>\n",
       "    </tr>\n",
       "    <tr>\n",
       "      <th>DATE</th>\n",
       "      <th></th>\n",
       "      <th></th>\n",
       "      <th></th>\n",
       "      <th></th>\n",
       "      <th></th>\n",
       "      <th></th>\n",
       "    </tr>\n",
       "  </thead>\n",
       "  <tbody>\n",
       "    <tr>\n",
       "      <th>1964-10-01</th>\n",
       "      <td>10.5</td>\n",
       "      <td>46.67</td>\n",
       "      <td>2.0</td>\n",
       "      <td>22.7</td>\n",
       "      <td>12.0</td>\n",
       "      <td>95.471</td>\n",
       "    </tr>\n",
       "    <tr>\n",
       "      <th>1964-11-01</th>\n",
       "      <td>11.0</td>\n",
       "      <td>99.70</td>\n",
       "      <td>-1.7</td>\n",
       "      <td>12.3</td>\n",
       "      <td>5.0</td>\n",
       "      <td>43.318</td>\n",
       "    </tr>\n",
       "    <tr>\n",
       "      <th>1964-12-01</th>\n",
       "      <td>12.5</td>\n",
       "      <td>64.70</td>\n",
       "      <td>-4.1</td>\n",
       "      <td>4.1</td>\n",
       "      <td>-0.4</td>\n",
       "      <td>22.320</td>\n",
       "    </tr>\n",
       "    <tr>\n",
       "      <th>1965-01-01</th>\n",
       "      <td>12.3</td>\n",
       "      <td>41.00</td>\n",
       "      <td>-5.0</td>\n",
       "      <td>3.0</td>\n",
       "      <td>-1.4</td>\n",
       "      <td>22.607</td>\n",
       "    </tr>\n",
       "    <tr>\n",
       "      <th>1965-02-01</th>\n",
       "      <td>15.8</td>\n",
       "      <td>104.50</td>\n",
       "      <td>-6.9</td>\n",
       "      <td>3.4</td>\n",
       "      <td>-2.1</td>\n",
       "      <td>29.121</td>\n",
       "    </tr>\n",
       "  </tbody>\n",
       "</table>\n",
       "</div>"
      ],
      "text/plain": [
       "            STREAMFLOW  PRECIPITATION  MINT  MAXT  MEANT     PET\n",
       "DATE                                                            \n",
       "1964-10-01        10.5          46.67   2.0  22.7   12.0  95.471\n",
       "1964-11-01        11.0          99.70  -1.7  12.3    5.0  43.318\n",
       "1964-12-01        12.5          64.70  -4.1   4.1   -0.4  22.320\n",
       "1965-01-01        12.3          41.00  -5.0   3.0   -1.4  22.607\n",
       "1965-02-01        15.8         104.50  -6.9   3.4   -2.1  29.121"
      ]
     },
     "execution_count": 3,
     "metadata": {},
     "output_type": "execute_result"
    }
   ],
   "source": [
    "df = pd.read_csv(\"data.csv\", index_col=0, parse_dates=True)\n",
    "df.head()"
   ]
  },
  {
   "cell_type": "markdown",
   "id": "5dad5c4b",
   "metadata": {},
   "source": [
    "---\n",
    "## **Calculate Multivariate Standardized Drought Index (MSDI)**\n",
    "\n",
    "This notebook demonstrates example calculations of **Multivariate Standardized Drought Index (MSDI)** using **bivariate data**, such as precipitation and streamflow.  \n",
    "\n",
    "MSDI extends standardized indices to consider **joint behavior of two variables** using either:\n",
    "\n",
    "- **Parametric (copula-based) MSDI**, or  \n",
    "- **Empirical (bivariate plotting position) MSDI**.\n",
    "\n",
    "---\n",
    "\n",
    "### **Calculate Copula-Based MSDI**\n",
    "\n",
    "For this example, we will use **two hydrometeorological variables** (e.g., precipitation and streamflow) to calculate copula-based MSDI.  \n",
    "\n",
    "Other combinations, such as soil moisture and groundwater, can also be used.\n",
    "\n",
    "It is common to calculate MSDI at different **time scales**: 1, 3, 6, 9, and 12 months.  \n",
    "\n",
    "In this example, we will calculate:\n",
    "\n",
    "- **MSDI-12 (parametric)** using a selected **copula family** to model the joint distribution.  "
   ]
  },
  {
   "cell_type": "code",
   "execution_count": 4,
   "id": "ae6b874f",
   "metadata": {},
   "outputs": [
    {
     "name": "stdout",
     "output_type": "stream",
     "text": [
      "=== Copula-Based MSDI ===\n"
     ]
    },
    {
     "data": {
      "text/plain": [
       "0   -0.632601\n",
       "1   -0.583776\n",
       "2   -0.703773\n",
       "3   -0.321812\n",
       "4    0.612748\n",
       "dtype: float64"
      ]
     },
     "metadata": {},
     "output_type": "display_data"
    }
   ],
   "source": [
    "# Select precipitation and streamflow columns\n",
    "precip = df['PRECIPITATION']\n",
    "streamflow = df['STREAMFLOW']\n",
    "\n",
    "# Initialize MSDI class with 12-month accumulation\n",
    "MSDI = pydrght.MSDI(precip, streamflow, ts=12)\n",
    "\n",
    "# Compute copula-based MSDI (Clayton copula, Gringorten method)\n",
    "MSDI_cop = MSDI.parametric(copula_family=\"Clayton\", method=\"Gringorten\")\n",
    "\n",
    "# Display results\n",
    "print(\"=== Copula-Based MSDI ===\")\n",
    "display(MSDI_cop.head())"
   ]
  },
  {
   "cell_type": "markdown",
   "id": "44bb6256",
   "metadata": {},
   "source": [
    "---\n",
    "\n",
    "### **Calculate Empirical MSDI**\n",
    "\n",
    "For this example, we will use **two hydrometeorological variables** (e.g., precipitation and streamflow) to calculate empirical MSDI.  \n",
    "\n",
    "It is common to calculate MSDI at different **time scales**: 1, 3, 6, 9, and 12 months.  \n",
    "\n",
    "In this example, we will calculate:\n",
    "\n",
    "- **MSDI-12 (empirical)** using **bivariate Gringorten plotting position formula** to model the joint distribution. "
   ]
  },
  {
   "cell_type": "code",
   "execution_count": 5,
   "id": "d8c3fb44",
   "metadata": {},
   "outputs": [
    {
     "name": "stdout",
     "output_type": "stream",
     "text": [
      "=== Empirical MSDI ===\n"
     ]
    },
    {
     "data": {
      "text/plain": [
       "0   -0.623270\n",
       "1   -0.541691\n",
       "2   -0.605772\n",
       "3   -0.191387\n",
       "4    0.605772\n",
       "dtype: float64"
      ]
     },
     "metadata": {},
     "output_type": "display_data"
    }
   ],
   "source": [
    "# Select precipitation and streamflow columns\n",
    "precip = df['PRECIPITATION']\n",
    "streamflow = df['STREAMFLOW']\n",
    "\n",
    "# Initialize MSDI class with 12-month accumulation\n",
    "MSDI = pydrght.MSDI(precip, streamflow, ts=12)\n",
    "\n",
    "# Compute empirical MSDI (Clayton copula, Gringorten method)\n",
    "MSDI_emp = MSDI.empirical()\n",
    "\n",
    "# Display results\n",
    "print(\"=== Empirical MSDI ===\")\n",
    "display(MSDI_emp.head())"
   ]
  },
  {
   "cell_type": "markdown",
   "id": "4a31aaf8",
   "metadata": {},
   "source": [
    "---\n",
    "## **References**\n",
    "- Gringorten, I. I. (1963). *A plotting rule for extreme probability paper.* Journal of Geophysical Research, 68(3), 813–814.\n",
    "- Weibull, W. (1939). *A statistical distribution function of wide applicability.* Journal of Applied Mechanics, 18, 293–297.\n",
    "- Clayton, D. G. (1978). *A model for association in bivariate life tables and its application in epidemiological studies of familial tendency in chronic disease incidence.* Biometrika, 65(1), 141–151.\n",
    "- Frank, M. J. (1979). *On the simultaneous associativity of F-matrices.* Biometrika, 66(2), 425–430.\n",
    "- Gumbel, E. J. (1960). *Bivariate exponential distributions.* Journal of the American Statistical Association, 55(290), 698–707.\n",
    "- Galambos, J. (1987). *The asymptotic theory of extreme order statistics.* Robert E. Krieger Publishing Company.\n",
    "- Plackett, R. L. (1965). *A class of bivariate distributions.* Journal of the American Statistical Association, 60(310), 516–522.\n",
    "---\n"
   ]
  }
 ],
 "metadata": {
  "kernelspec": {
   "display_name": ".venv",
   "language": "python",
   "name": "python3"
  },
  "language_info": {
   "codemirror_mode": {
    "name": "ipython",
    "version": 3
   },
   "file_extension": ".py",
   "mimetype": "text/x-python",
   "name": "python",
   "nbconvert_exporter": "python",
   "pygments_lexer": "ipython3",
   "version": "3.11.9"
  }
 },
 "nbformat": 4,
 "nbformat_minor": 5
}
