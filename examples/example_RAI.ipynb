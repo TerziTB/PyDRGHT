{
 "cells": [
  {
   "cell_type": "markdown",
   "id": "b805e0e7",
   "metadata": {},
   "source": [
    "# **Rainfall Anomaly Index (RAI)**\n",
    "**Tolga Barış Terzi – 2025**\n",
    "\n",
    "This notebook demonstrates example calculations of the **Rainfall Anomaly Index (RAI)** and the **Modified Rainfall Anomaly Index (mRAI)**, following the methodology of **van Rooy (1965)** and **Gibbs & Maher (1967)**.\n",
    "\n",
    "RAI quantifies meteorological drought by measuring deviations of **monthly precipitation (P)** from long-term climatology, while mRAI provides a **month-wise adjustment** to account for seasonal variability.\n",
    "\n",
    "---\n",
    "\n",
    "## **RAI Methodology Overview**\n",
    "\n",
    "1. **Aggregation**: Accumulate precipitation over the selected time scale (e.g., 1, 3, 6, 12 months).  \n",
    "2. **Computation**: Calculate anomalies relative to the mean and scale by extremes:\n",
    "\n",
    "   - **RAI**:\n",
    "     $$\n",
    "     \\text{RAI} =\n",
    "     \\begin{cases} \n",
    "     \\text{scale} \\cdot \\dfrac{P - \\overline{P}}{\\text{mean(top 10)} - \\overline{P}}, & P > \\overline{P} \\\\\n",
    "     -\\text{scale} \\cdot \\dfrac{P - \\overline{P}}{\\text{mean(bottom 10)} - \\overline{P}}, & P \\leq \\overline{P}\n",
    "     \\end{cases}\n",
    "     $$\n",
    "\n",
    "   - **mRAI (month-wise)**:\n",
    "     $$\n",
    "     \\text{mRAI}_m =\n",
    "     \\begin{cases} \n",
    "     \\text{scale} \\cdot \\dfrac{P - \\text{median}_m}{\\text{mean(top 10\\%}_m) - \\text{median}_m}, & P \\geq \\text{median}_m \\\\\n",
    "     -\\text{scale} \\cdot \\dfrac{P - \\text{median}_m}{\\text{mean(bottom 10\\%}_m) - \\text{median}_m}, & P < \\text{median}_m\n",
    "     \\end{cases}\n",
    "     $$\n",
    "\n",
    "3. **Month-wise adjustment (optional)**: Compute anomalies separately for each calendar month.\n",
    "\n",
    "---\n",
    "\n",
    "## **Required Packages**"
   ]
  },
  {
   "cell_type": "code",
   "execution_count": 1,
   "id": "8b88dce8",
   "metadata": {},
   "outputs": [],
   "source": [
    "import pandas as pd\n",
    "import numpy as np\n",
    "import pydrght"
   ]
  },
  {
   "cell_type": "markdown",
   "id": "5d2699ee",
   "metadata": {},
   "source": [
    "---\n",
    "## **Load the Data**\n",
    "\n",
    "The example dataset contains monthly values of:\n",
    "  \n",
    "- **Precipitation** \n",
    "\n",
    "The data is from the **Seyhan River Basin, Turkey**, covering the period **October 1964 – September 2011**, which corresponds to hydrological years **1965–2011**."
   ]
  },
  {
   "cell_type": "code",
   "execution_count": 2,
   "id": "705df1b3",
   "metadata": {},
   "outputs": [
    {
     "data": {
      "text/html": [
       "<div>\n",
       "<style scoped>\n",
       "    .dataframe tbody tr th:only-of-type {\n",
       "        vertical-align: middle;\n",
       "    }\n",
       "\n",
       "    .dataframe tbody tr th {\n",
       "        vertical-align: top;\n",
       "    }\n",
       "\n",
       "    .dataframe thead th {\n",
       "        text-align: right;\n",
       "    }\n",
       "</style>\n",
       "<table border=\"1\" class=\"dataframe\">\n",
       "  <thead>\n",
       "    <tr style=\"text-align: right;\">\n",
       "      <th></th>\n",
       "      <th>STREAMFLOW</th>\n",
       "      <th>PRECIPITATION</th>\n",
       "      <th>MINT</th>\n",
       "      <th>MAXT</th>\n",
       "      <th>MEANT</th>\n",
       "      <th>PET</th>\n",
       "    </tr>\n",
       "    <tr>\n",
       "      <th>DATE</th>\n",
       "      <th></th>\n",
       "      <th></th>\n",
       "      <th></th>\n",
       "      <th></th>\n",
       "      <th></th>\n",
       "      <th></th>\n",
       "    </tr>\n",
       "  </thead>\n",
       "  <tbody>\n",
       "    <tr>\n",
       "      <th>1964-10-01</th>\n",
       "      <td>10.5</td>\n",
       "      <td>46.67</td>\n",
       "      <td>2.0</td>\n",
       "      <td>22.7</td>\n",
       "      <td>12.0</td>\n",
       "      <td>95.471</td>\n",
       "    </tr>\n",
       "    <tr>\n",
       "      <th>1964-11-01</th>\n",
       "      <td>11.0</td>\n",
       "      <td>99.70</td>\n",
       "      <td>-1.7</td>\n",
       "      <td>12.3</td>\n",
       "      <td>5.0</td>\n",
       "      <td>43.318</td>\n",
       "    </tr>\n",
       "    <tr>\n",
       "      <th>1964-12-01</th>\n",
       "      <td>12.5</td>\n",
       "      <td>64.70</td>\n",
       "      <td>-4.1</td>\n",
       "      <td>4.1</td>\n",
       "      <td>-0.4</td>\n",
       "      <td>22.320</td>\n",
       "    </tr>\n",
       "    <tr>\n",
       "      <th>1965-01-01</th>\n",
       "      <td>12.3</td>\n",
       "      <td>41.00</td>\n",
       "      <td>-5.0</td>\n",
       "      <td>3.0</td>\n",
       "      <td>-1.4</td>\n",
       "      <td>22.607</td>\n",
       "    </tr>\n",
       "    <tr>\n",
       "      <th>1965-02-01</th>\n",
       "      <td>15.8</td>\n",
       "      <td>104.50</td>\n",
       "      <td>-6.9</td>\n",
       "      <td>3.4</td>\n",
       "      <td>-2.1</td>\n",
       "      <td>29.121</td>\n",
       "    </tr>\n",
       "  </tbody>\n",
       "</table>\n",
       "</div>"
      ],
      "text/plain": [
       "            STREAMFLOW  PRECIPITATION  MINT  MAXT  MEANT     PET\n",
       "DATE                                                            \n",
       "1964-10-01        10.5          46.67   2.0  22.7   12.0  95.471\n",
       "1964-11-01        11.0          99.70  -1.7  12.3    5.0  43.318\n",
       "1964-12-01        12.5          64.70  -4.1   4.1   -0.4  22.320\n",
       "1965-01-01        12.3          41.00  -5.0   3.0   -1.4  22.607\n",
       "1965-02-01        15.8         104.50  -6.9   3.4   -2.1  29.121"
      ]
     },
     "execution_count": 2,
     "metadata": {},
     "output_type": "execute_result"
    }
   ],
   "source": [
    "df = pd.read_csv(\"data.csv\", index_col=0, parse_dates=True)\n",
    "df.head()"
   ]
  },
  {
   "cell_type": "markdown",
   "id": "1a67a974",
   "metadata": {},
   "source": [
    "---\n",
    "## **Calculate RAI**\n",
    "\n",
    "In this example, we calculate monthly **RAI** values using precipitation data.\n",
    "\n",
    "- **Precipitation** is selected from the dataset.\n",
    "\n",
    "We use the `pydrght.RAI` class to calculate:\n",
    "\n",
    "1. **RAI**: The standard Rainfall Anomaly Index, which quantifies deviations of monthly precipitation from the long-term mean and scales by the extremes.\n",
    "2. **mRAI**: The Modified Rainfall Anomaly Index, which adjusts the RAI for each calendar month to account for seasonal variability."
   ]
  },
  {
   "cell_type": "code",
   "execution_count": 3,
   "id": "33667295",
   "metadata": {},
   "outputs": [
    {
     "name": "stdout",
     "output_type": "stream",
     "text": [
      "=== Standard RAI ===\n"
     ]
    },
    {
     "data": {
      "text/plain": [
       "DATE\n",
       "1965-09-01   -0.461455\n",
       "1965-10-01   -0.268116\n",
       "1965-11-01   -0.764261\n",
       "1965-12-01    0.353786\n",
       "1966-01-01    1.982747\n",
       "dtype: float64"
      ]
     },
     "metadata": {},
     "output_type": "display_data"
    },
    {
     "name": "stdout",
     "output_type": "stream",
     "text": [
      "=== Modified RAI (mRAI) ===\n"
     ]
    },
    {
     "data": {
      "text/plain": [
       "DATE\n",
       "1965-09-01   -0.194795\n",
       "1965-10-01   -0.039495\n",
       "1965-11-01   -0.470368\n",
       "1965-12-01    0.344514\n",
       "1966-01-01    1.630238\n",
       "dtype: float64"
      ]
     },
     "metadata": {},
     "output_type": "display_data"
    }
   ],
   "source": [
    "# Select precipitation column\n",
    "precip = df['PRECIPITATION']\n",
    "\n",
    "# Initialize RAI class\n",
    "rai = pydrght.RAI(precip=precip, ts=12)\n",
    "\n",
    "# === Standard RAI ===\n",
    "RAI_values = rai.RAI()\n",
    "print(\"=== Standard RAI ===\")\n",
    "display(RAI_values.head())\n",
    "\n",
    "# === Modified RAI (mRAI) ===\n",
    "mRAI_values = rai.mRAI()\n",
    "print(\"=== Modified RAI (mRAI) ===\")\n",
    "display(mRAI_values.head())\n"
   ]
  },
  {
   "cell_type": "markdown",
   "id": "0b6e9c91",
   "metadata": {},
   "source": [
    "---\n",
    "\n",
    "## **References**\n",
    "\n",
    "- van Rooy, M. P. (1965). *A rainfall anomaly index (RAI) independent of time and space.* Notos, 14, 43–48.  \n",
    "\n",
    "- Gibbs, W. J., & Maher, J. V. (1967). *Rainfall deciles as drought indicators.* Bureau of Meteorology Bulletin No. 48, Commonwealth of Australia, Melbourne.  "
   ]
  }
 ],
 "metadata": {
  "kernelspec": {
   "display_name": ".venv",
   "language": "python",
   "name": "python3"
  },
  "language_info": {
   "codemirror_mode": {
    "name": "ipython",
    "version": 3
   },
   "file_extension": ".py",
   "mimetype": "text/x-python",
   "name": "python",
   "nbconvert_exporter": "python",
   "pygments_lexer": "ipython3",
   "version": "3.11.9"
  }
 },
 "nbformat": 4,
 "nbformat_minor": 5
}
