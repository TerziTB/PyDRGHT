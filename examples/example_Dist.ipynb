{
 "cells": [
  {
   "cell_type": "markdown",
   "id": "ae00183b",
   "metadata": {},
   "source": [
    "# **Distribution Analysis with Dist Class**\n",
    "**Tolga Barış Terzi – 2025**\n",
    "\n",
    "This notebook demonstrates fitting a **continuous probability distribution** to univariate data using the `Dist` class.  \n",
    "The class allows you to:\n",
    "\n",
    "- Fit SciPy continuous distributions.\n",
    "- Compute PDF, CDF, inverse CDF (PPF).\n",
    "- Perform goodness-of-fit tests (KS, AD).\n",
    "- Compute information criteria (AIC, BIC).\n",
    "- Calculate return levels for specified return periods.\n",
    "\n",
    "---\n",
    "\n",
    "## **Required Packages**\n"
   ]
  },
  {
   "cell_type": "code",
   "execution_count": 1,
   "id": "dff5392e",
   "metadata": {},
   "outputs": [],
   "source": [
    "import pandas as pd\n",
    "import numpy as np\n",
    "import scipy.stats as stats\n",
    "import pydrght"
   ]
  },
  {
   "cell_type": "markdown",
   "id": "ca6efcd5",
   "metadata": {},
   "source": [
    "---\n",
    "## **Load the Data**\n",
    "\n",
    "The example dataset contains monthly values of:\n",
    "\n",
    "- **Streamflow**  \n",
    "- **Precipitation**  \n",
    "\n",
    "The data is from the **Seyhan River Basin, Turkey**, covering the period **October 1964 – September 2011**, which corresponds to hydrological years **1965–2011**."
   ]
  },
  {
   "cell_type": "code",
   "execution_count": 2,
   "id": "8e411acb",
   "metadata": {},
   "outputs": [
    {
     "data": {
      "text/html": [
       "<div>\n",
       "<style scoped>\n",
       "    .dataframe tbody tr th:only-of-type {\n",
       "        vertical-align: middle;\n",
       "    }\n",
       "\n",
       "    .dataframe tbody tr th {\n",
       "        vertical-align: top;\n",
       "    }\n",
       "\n",
       "    .dataframe thead th {\n",
       "        text-align: right;\n",
       "    }\n",
       "</style>\n",
       "<table border=\"1\" class=\"dataframe\">\n",
       "  <thead>\n",
       "    <tr style=\"text-align: right;\">\n",
       "      <th></th>\n",
       "      <th>STREAMFLOW</th>\n",
       "      <th>PRECIPITATION</th>\n",
       "      <th>MINT</th>\n",
       "      <th>MAXT</th>\n",
       "      <th>MEANT</th>\n",
       "      <th>PET</th>\n",
       "    </tr>\n",
       "    <tr>\n",
       "      <th>DATE</th>\n",
       "      <th></th>\n",
       "      <th></th>\n",
       "      <th></th>\n",
       "      <th></th>\n",
       "      <th></th>\n",
       "      <th></th>\n",
       "    </tr>\n",
       "  </thead>\n",
       "  <tbody>\n",
       "    <tr>\n",
       "      <th>1964-10-01</th>\n",
       "      <td>10.5</td>\n",
       "      <td>46.67</td>\n",
       "      <td>2.0</td>\n",
       "      <td>22.7</td>\n",
       "      <td>12.0</td>\n",
       "      <td>95.471</td>\n",
       "    </tr>\n",
       "    <tr>\n",
       "      <th>1964-11-01</th>\n",
       "      <td>11.0</td>\n",
       "      <td>99.70</td>\n",
       "      <td>-1.7</td>\n",
       "      <td>12.3</td>\n",
       "      <td>5.0</td>\n",
       "      <td>43.318</td>\n",
       "    </tr>\n",
       "    <tr>\n",
       "      <th>1964-12-01</th>\n",
       "      <td>12.5</td>\n",
       "      <td>64.70</td>\n",
       "      <td>-4.1</td>\n",
       "      <td>4.1</td>\n",
       "      <td>-0.4</td>\n",
       "      <td>22.320</td>\n",
       "    </tr>\n",
       "    <tr>\n",
       "      <th>1965-01-01</th>\n",
       "      <td>12.3</td>\n",
       "      <td>41.00</td>\n",
       "      <td>-5.0</td>\n",
       "      <td>3.0</td>\n",
       "      <td>-1.4</td>\n",
       "      <td>22.607</td>\n",
       "    </tr>\n",
       "    <tr>\n",
       "      <th>1965-02-01</th>\n",
       "      <td>15.8</td>\n",
       "      <td>104.50</td>\n",
       "      <td>-6.9</td>\n",
       "      <td>3.4</td>\n",
       "      <td>-2.1</td>\n",
       "      <td>29.121</td>\n",
       "    </tr>\n",
       "  </tbody>\n",
       "</table>\n",
       "</div>"
      ],
      "text/plain": [
       "            STREAMFLOW  PRECIPITATION  MINT  MAXT  MEANT     PET\n",
       "DATE                                                            \n",
       "1964-10-01        10.5          46.67   2.0  22.7   12.0  95.471\n",
       "1964-11-01        11.0          99.70  -1.7  12.3    5.0  43.318\n",
       "1964-12-01        12.5          64.70  -4.1   4.1   -0.4  22.320\n",
       "1965-01-01        12.3          41.00  -5.0   3.0   -1.4  22.607\n",
       "1965-02-01        15.8         104.50  -6.9   3.4   -2.1  29.121"
      ]
     },
     "execution_count": 2,
     "metadata": {},
     "output_type": "execute_result"
    }
   ],
   "source": [
    "df = pd.read_csv(\"data.csv\", index_col=0, parse_dates=True)\n",
    "df.head()"
   ]
  },
  {
   "cell_type": "markdown",
   "id": "52270a0f",
   "metadata": {},
   "source": [
    "---\n",
    "## **Initialize the Distribution Object**\n",
    "Here we create a `Dist` object using a Gamma distribution and fix the location parameter at 0 (`floc0=True`).  \n",
    "This ensures the fitted distribution starts at zero, which is common for precipitation data."
   ]
  },
  {
   "cell_type": "code",
   "execution_count": 3,
   "id": "c70a7b99",
   "metadata": {},
   "outputs": [],
   "source": [
    "# Select the precipitation column\n",
    "precip = df[\"PRECIPITATION\"]\n",
    "# Initialize Dist class\n",
    "Dist = pydrght.Dist(precip, stats.gamma, floc0=True)"
   ]
  },
  {
   "cell_type": "markdown",
   "id": "750cbb48",
   "metadata": {},
   "source": [
    "---\n",
    "## **View Fitted Parameters**\n",
    "Once the distribution is fitted, we can examine the estimated parameters:\n",
    "\n",
    "- **Shape**: Determines the form of the distribution.\n",
    "- **Loc**: Location parameter (fixed at 0 here).\n",
    "- **Scale**: Scale factor for the distribution."
   ]
  },
  {
   "cell_type": "code",
   "execution_count": 4,
   "id": "4e3e0ba8",
   "metadata": {},
   "outputs": [
    {
     "name": "stdout",
     "output_type": "stream",
     "text": [
      "Fitted parameters:\n",
      "Shape: [0.9141604377597456]\n",
      "Loc: 0\n",
      "Scale: 56.84749648197027\n"
     ]
    }
   ],
   "source": [
    "print(\"Fitted parameters:\")\n",
    "print(\"Shape:\", Dist.shape)\n",
    "print(\"Loc:\", Dist.loc)\n",
    "print(\"Scale:\", Dist.scale)"
   ]
  },
  {
   "cell_type": "markdown",
   "id": "17ea68a4",
   "metadata": {},
   "source": [
    "---\n",
    "## **Goodness-of-Fit Test**\n",
    "\n",
    "We perform the Kolmogorov-Smirnov (KS) test to assess how well the fitted Gamma distribution matches the observed data.\n",
    "A higher p-value indicates better agreement with the empirical data."
   ]
  },
  {
   "cell_type": "code",
   "execution_count": 5,
   "id": "497fd262",
   "metadata": {},
   "outputs": [
    {
     "name": "stdout",
     "output_type": "stream",
     "text": [
      "KS test statistic: 0.07156335123835356\n",
      "KS test p-value: 0.0058824587882349635\n"
     ]
    }
   ],
   "source": [
    "ks_stat, ks_p = Dist.ks_test()\n",
    "print(\"KS test statistic:\", ks_stat)\n",
    "print(\"KS test p-value:\", ks_p)"
   ]
  },
  {
   "cell_type": "markdown",
   "id": "4222f689",
   "metadata": {},
   "source": [
    "---\n",
    "## **Information Criteria**\n",
    "\n",
    "We compute AIC (Akaike Information Criterion) and BIC (Bayesian Information Criterion) for the fitted distribution.\n",
    "Lower values indicate a better model fit relative to model complexity."
   ]
  },
  {
   "cell_type": "code",
   "execution_count": 6,
   "id": "d228c74e",
   "metadata": {},
   "outputs": [
    {
     "name": "stdout",
     "output_type": "stream",
     "text": [
      "AIC: 5587.250543656458\n",
      "BIC: 5600.255706410952\n"
     ]
    }
   ],
   "source": [
    "print(\"AIC:\", Dist.aic())\n",
    "print(\"BIC:\", Dist.bic())"
   ]
  },
  {
   "cell_type": "markdown",
   "id": "659d6902",
   "metadata": {},
   "source": [
    "---\n",
    "## **Cumulative Distribution Function (CDF)**\n",
    "The CDF gives the probability that a random variable is less than or equal to a given value.\n",
    "This can be useful to estimate the probability of precipitation not exceeding a certain threshold."
   ]
  },
  {
   "cell_type": "code",
   "execution_count": 7,
   "id": "c7ea843c",
   "metadata": {},
   "outputs": [
    {
     "name": "stdout",
     "output_type": "stream",
     "text": [
      "CDF values:\n"
     ]
    },
    {
     "data": {
      "text/plain": [
       "0    0.600475\n",
       "1    0.849206\n",
       "2    0.713896\n",
       "3    0.555842\n",
       "4    0.861812\n",
       "dtype: float64"
      ]
     },
     "metadata": {},
     "output_type": "display_data"
    }
   ],
   "source": [
    "cdf_values = Dist.cdf()\n",
    "print(\"CDF values:\")\n",
    "display(cdf_values.head())"
   ]
  },
  {
   "cell_type": "markdown",
   "id": "f09b7baf",
   "metadata": {},
   "source": [
    "---\n",
    "## **Return Period Analysis**\n",
    "\n",
    "Return periods estimate extreme event thresholds, such as precipitation expected once every 200 years."
   ]
  },
  {
   "cell_type": "code",
   "execution_count": 8,
   "id": "ce12cb65",
   "metadata": {},
   "outputs": [
    {
     "name": "stdout",
     "output_type": "stream",
     "text": [
      "Return level for 200 years: 199.28898784924868\n"
     ]
    }
   ],
   "source": [
    "return_level = Dist.return_period(T=200, interarrival=5)\n",
    "print(\"Return level for 200 years:\", return_level)"
   ]
  },
  {
   "cell_type": "markdown",
   "id": "f64eeb13",
   "metadata": {},
   "source": [
    "---\n",
    "## **References**\n",
    "\n",
    "- Kolmogorov, A. (1933). *Sulla determinazione empirica di una legge di distribuzione.* Giornale dell’Istituto Italiano degli Attuari, 4, 83–91.\n",
    "- Smirnov, N. (1948). *Table for estimating the goodness of fit of empirical distributions.* Annals of Mathematical Statistics, 19, 279–281.\n",
    "- Anderson, T. W., & Darling, D. A. (1952). *Asymptotic theory of certain \"goodness-of-fit\" criteria based on stochastic processes.* Annals of Mathematical Statistics, 23, 193–212.\n",
    "- Akaike, H. (1974). *A new look at the statistical model identification.* IEEE Transactions on Automatic Control, 19(6), 716–723.\n",
    "- Schwarz, G. (1978). *Estimating the dimension of a model.* Annals of Statistics, 6(2), 461–464.\n",
    "- Katz, R. W., Parlange, M. B., & Naveau, P. (2002). *Statistics of extremes in hydrology.* Advances in Water Resources, 25(8-12), 1287–1304.\n",
    "- Coles, S. (2001). *An Introduction to Statistical Modeling of Extreme Values.* Springer Series in Statistics.\n"
   ]
  }
 ],
 "metadata": {
  "kernelspec": {
   "display_name": ".venv",
   "language": "python",
   "name": "python3"
  },
  "language_info": {
   "codemirror_mode": {
    "name": "ipython",
    "version": 3
   },
   "file_extension": ".py",
   "mimetype": "text/x-python",
   "name": "python",
   "nbconvert_exporter": "python",
   "pygments_lexer": "ipython3",
   "version": "3.11.9"
  }
 },
 "nbformat": 4,
 "nbformat_minor": 5
}
