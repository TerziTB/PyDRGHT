{
 "cells": [
  {
   "cell_type": "markdown",
   "id": "e75d3d78",
   "metadata": {},
   "source": [
    "---\n",
    "## **Bivariate Frequency Analysis (BFA)**\n",
    "**Tolga Barış Terzi – 2025**\n",
    "\n",
    "This section demonstrates **Bivariate Frequency Analysis (BFA)** of drought events, focusing on **drought duration and severity**.  \n",
    "BFA uses **copulas** to model the dependence structure between two variables, allowing the calculation of **joint return periods** for extreme events.  \n",
    "\n",
    "---\n",
    "\n",
    "## **BFA Methodology Overview**\n",
    "\n",
    "1. **Data Preparation**:  \n",
    "   - Extract **Duration** and **Severity** from the `DChar` output.  \n",
    "   - Ensure **Interarrival times** are included to scale the return periods.  \n",
    "\n",
    "2. **Fit Marginal Distributions**:  \n",
    "   - Fit a univariate distribution to **Duration** (`dist_x`).  \n",
    "   - Fit a univariate distribution to **Severity** (`dist_y`).  \n",
    "   - Common choices include **Exponential**, **Gamma**, or **Weibull** distributions.  \n",
    "\n",
    "3. **Select Copula Family**:  \n",
    "   - Copulas capture the dependence between Duration and Severity.  \n",
    "   - Supported families: **Frank**, **Clayton**, **Gumbel**, **Gaussian**, **Plackett**, **Galambos**.  \n",
    "\n",
    "4. **Joint Return Period Calculation**:  \n",
    "   - **OR return period**: at least one variable exceeds its threshold.  \n",
    "   - **AND return period**: both variables exceed thresholds simultaneously.  \n",
    "   - Return periods can be scaled using the **average interarrival time**.  \n",
    "\n",
    "---\n",
    "\n",
    "## **Required Packages**\n"
   ]
  },
  {
   "cell_type": "code",
   "execution_count": 1,
   "id": "85011d82",
   "metadata": {},
   "outputs": [],
   "source": [
    "import pandas as pd\n",
    "import numpy as np\n",
    "import scipy.stats as stats\n",
    "import pydrght"
   ]
  },
  {
   "cell_type": "markdown",
   "id": "7bbbdd10",
   "metadata": {},
   "source": [
    "---\n",
    "## **Load the Data**\n",
    "\n",
    "The example dataset contains monthly values of:  \n",
    "\n",
    "- **Duration**: Number of months a drought lasted.  \n",
    "- **Severity**: Cumulative SPI deficit over the drought period.  \n",
    "- **Interarrival**: Months between the end of a drought and the start of the next.  \n",
    "\n",
    "These drought characteristics are calculated from the **SPI-12 series**, which was derived in the `example_SI` notebook. We fit **univariate distributions** to each variable and model their dependence using a **copula**, allowing calculation of **joint return periods** for extreme events.\n",
    "\n",
    "The data is stored in `dchar.csv` and will be used for **Bivariate Frequency Analysis (BFA)** to model joint return periods of extreme drought events."
   ]
  },
  {
   "cell_type": "code",
   "execution_count": 3,
   "id": "003b194f",
   "metadata": {},
   "outputs": [
    {
     "data": {
      "text/html": [
       "<div>\n",
       "<style scoped>\n",
       "    .dataframe tbody tr th:only-of-type {\n",
       "        vertical-align: middle;\n",
       "    }\n",
       "\n",
       "    .dataframe tbody tr th {\n",
       "        vertical-align: top;\n",
       "    }\n",
       "\n",
       "    .dataframe thead th {\n",
       "        text-align: right;\n",
       "    }\n",
       "</style>\n",
       "<table border=\"1\" class=\"dataframe\">\n",
       "  <thead>\n",
       "    <tr style=\"text-align: right;\">\n",
       "      <th></th>\n",
       "      <th>Event</th>\n",
       "      <th>Duration</th>\n",
       "      <th>Severity</th>\n",
       "      <th>Interarrival</th>\n",
       "    </tr>\n",
       "  </thead>\n",
       "  <tbody>\n",
       "    <tr>\n",
       "      <th>0</th>\n",
       "      <td>0</td>\n",
       "      <td>2</td>\n",
       "      <td>-2.673279</td>\n",
       "      <td>11.0</td>\n",
       "    </tr>\n",
       "    <tr>\n",
       "      <th>1</th>\n",
       "      <td>1</td>\n",
       "      <td>4</td>\n",
       "      <td>-5.845878</td>\n",
       "      <td>12.0</td>\n",
       "    </tr>\n",
       "    <tr>\n",
       "      <th>2</th>\n",
       "      <td>2</td>\n",
       "      <td>6</td>\n",
       "      <td>-7.267712</td>\n",
       "      <td>3.0</td>\n",
       "    </tr>\n",
       "    <tr>\n",
       "      <th>3</th>\n",
       "      <td>3</td>\n",
       "      <td>9</td>\n",
       "      <td>-16.629503</td>\n",
       "      <td>119.0</td>\n",
       "    </tr>\n",
       "    <tr>\n",
       "      <th>4</th>\n",
       "      <td>4</td>\n",
       "      <td>11</td>\n",
       "      <td>-20.029517</td>\n",
       "      <td>2.0</td>\n",
       "    </tr>\n",
       "  </tbody>\n",
       "</table>\n",
       "</div>"
      ],
      "text/plain": [
       "   Event  Duration   Severity  Interarrival\n",
       "0      0         2  -2.673279          11.0\n",
       "1      1         4  -5.845878          12.0\n",
       "2      2         6  -7.267712           3.0\n",
       "3      3         9 -16.629503         119.0\n",
       "4      4        11 -20.029517           2.0"
      ]
     },
     "execution_count": 3,
     "metadata": {},
     "output_type": "execute_result"
    }
   ],
   "source": [
    "df = pd.read_csv(\"dchar.csv\")\n",
    "df.head()"
   ]
  },
  {
   "cell_type": "markdown",
   "id": "eb802b8a",
   "metadata": {},
   "source": [
    "---\n",
    "## **Fit Univariate Distributions**\n",
    "\n",
    "In this example, we fit **1-parameter Exponential distributions** to both **drought duration** and **drought severity** using `pydrght.Dist`.  \n",
    "\n",
    "Before fitting the data, we ensured that:  \n",
    "\n",
    "- **Severities** are converted to **absolute values** to avoid negative deficits.  \n",
    "- **NaN values** in the `Interarrival` column are removed, since the last interarrival value calculated by `pydrght.DChar` is typically `NaN`.  \n",
    "\n",
    "These fitted distributions serve as the **marginal distributions** for the subsequent bivariate frequency analysis with copulas.\n"
   ]
  },
  {
   "cell_type": "code",
   "execution_count": 4,
   "id": "8121b636",
   "metadata": {},
   "outputs": [],
   "source": [
    "dur = df[\"Duration\"]           # Drought durations\n",
    "sev = abs(df[\"Severity\"])      # Severities (absolute values)\n",
    "interarrival = df[\"Interarrival\"].dropna()  # Interarrival times\n",
    "\n",
    "# Fit univariate distributions\n",
    "dist_dur = pydrght.Dist(dur, stats.expon, floc0=True)   # duration\n",
    "dist_sev = pydrght.Dist(sev, stats.expon, floc0=True)  # severity"
   ]
  },
  {
   "cell_type": "markdown",
   "id": "a79430dd",
   "metadata": {},
   "source": [
    "---\n",
    "## **Bivariate Return Periods**\n",
    "\n",
    "With the **marginal distributions** of drought duration and severity fitted, we can now perform **bivariate frequency analysis** using the `pydrght.BFA` class.  \n",
    "\n",
    "The analysis requires a **copula** to model the dependence between the two variables. In this example, we use the **Frank Copula** (`pydrght.copulas.FrankCopula`) to capture the joint behavior of drought duration and severity.  \n",
    "\n",
    "- `T` specifies the return period of interest (here, **200 years**).  \n",
    "- `E_L` is the **average interarrival time** in years, calculated from the interarrival series.  \n",
    "\n",
    "Finally, we compute the **T-year joint return period** using the `joint_return_period` method, which provides both:\n",
    "\n",
    "- **OR return period**: the expected return period when **either** duration or severity exceeds its threshold.  \n",
    "- **AND return period**: the expected return period when **both** duration and severity exceed their thresholds simultaneously.\n"
   ]
  },
  {
   "cell_type": "code",
   "execution_count": 5,
   "id": "b647a2eb",
   "metadata": {},
   "outputs": [
    {
     "name": "stdout",
     "output_type": "stream",
     "text": [
      "=== Bivariate Frequency Analysis (BFA) ===\n"
     ]
    },
    {
     "data": {
      "text/plain": [
       "OR      110.422033\n",
       "AND    1059.505735\n",
       "dtype: float64"
      ]
     },
     "metadata": {},
     "output_type": "display_data"
    }
   ],
   "source": [
    "# Initialize BFA with Frank copula\n",
    "bivar = pydrght.BFA(dist_dur, dist_sev, copula_family=pydrght.copulas.FrankCopula)\n",
    "\n",
    "# Compute average interarrival in years\n",
    "E_L = interarrival.mean() / 12\n",
    "\n",
    "# Define the return period of interest\n",
    "T = 200\n",
    "\n",
    "# Calculate T-year joint return period\n",
    "rp = bivar.joint_return_period(T=T, interarrival=E_L)\n",
    "\n",
    "# Display results\n",
    "print(\"=== Bivariate Frequency Analysis (BFA) ===\")\n",
    "display(rp)\n"
   ]
  },
  {
   "cell_type": "markdown",
   "id": "8805623a",
   "metadata": {},
   "source": [
    "---\n",
    "## **References**\n",
    "\n",
    "- Shiau, J. T. (2006). *Fitting drought duration and severity with two-dimensional copulas*. Water Resources Management, 20(5), 795–815. https://doi.org/10.1007/s11269-005-9008-9  "
   ]
  }
 ],
 "metadata": {
  "kernelspec": {
   "display_name": ".venv",
   "language": "python",
   "name": "python3"
  },
  "language_info": {
   "codemirror_mode": {
    "name": "ipython",
    "version": 3
   },
   "file_extension": ".py",
   "mimetype": "text/x-python",
   "name": "python",
   "nbconvert_exporter": "python",
   "pygments_lexer": "ipython3",
   "version": "3.11.9"
  }
 },
 "nbformat": 4,
 "nbformat_minor": 5
}
